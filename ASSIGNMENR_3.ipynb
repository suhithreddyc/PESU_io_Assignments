{
  "nbformat": 4,
  "nbformat_minor": 0,
  "metadata": {
    "colab": {
      "provenance": [],
      "authorship_tag": "ABX9TyM2u1KUWuQ7ow+5zWuowzqg",
      "include_colab_link": true
    },
    "kernelspec": {
      "name": "python3",
      "display_name": "Python 3"
    },
    "language_info": {
      "name": "python"
    }
  },
  "cells": [
    {
      "cell_type": "markdown",
      "metadata": {
        "id": "view-in-github",
        "colab_type": "text"
      },
      "source": [
        "<a href=\"https://colab.research.google.com/github/suhithreddyc/PESU_io_Assignments/blob/main/ASSIGNMENR_3.ipynb\" target=\"_parent\"><img src=\"https://colab.research.google.com/assets/colab-badge.svg\" alt=\"Open In Colab\"/></a>"
      ]
    },
    {
      "cell_type": "code",
      "execution_count": 1,
      "metadata": {
        "id": "8OrUUYcR17Y1"
      },
      "outputs": [],
      "source": [
        "import numpy as np\n",
        "import pandas as pd\n",
        "import tensorflow as tf"
      ]
    },
    {
      "cell_type": "code",
      "source": [
        "tf.__version__"
      ],
      "metadata": {
        "colab": {
          "base_uri": "https://localhost:8080/",
          "height": 35
        },
        "id": "_zro1avi2g2W",
        "outputId": "b3aafa03-f513-41e3-82b0-30c60a4c0338"
      },
      "execution_count": 2,
      "outputs": [
        {
          "output_type": "execute_result",
          "data": {
            "text/plain": [
              "'2.13.0'"
            ],
            "application/vnd.google.colaboratory.intrinsic+json": {
              "type": "string"
            }
          },
          "metadata": {},
          "execution_count": 2
        }
      ]
    },
    {
      "cell_type": "code",
      "source": [
        "dataset = pd.read_csv('/content/Social_Network_Ads.csv')\n",
        "X = dataset.iloc[:, :-1].values\n",
        "y = dataset.iloc[:, -1].values"
      ],
      "metadata": {
        "id": "9_bDEef82rHS"
      },
      "execution_count": 5,
      "outputs": []
    },
    {
      "cell_type": "code",
      "source": [
        "from sklearn.model_selection import train_test_split\n",
        "X_train, X_test, y_train, y_test = train_test_split(X, y, test_size = 0.2, random_state = 0)"
      ],
      "metadata": {
        "id": "tyrO7Y1Z28uK"
      },
      "execution_count": 6,
      "outputs": []
    },
    {
      "cell_type": "code",
      "source": [
        "from sklearn.preprocessing import StandardScaler\n",
        "sc = StandardScaler()\n",
        "X_train = sc.fit_transform(X_train)\n",
        "X_test = sc.transform(X_test)"
      ],
      "metadata": {
        "id": "xhrZYxUx3iw8"
      },
      "execution_count": 7,
      "outputs": []
    },
    {
      "cell_type": "code",
      "source": [
        "ann = tf.keras.models.Sequential()"
      ],
      "metadata": {
        "id": "kdq0rY9S3mXp"
      },
      "execution_count": 8,
      "outputs": []
    },
    {
      "cell_type": "code",
      "source": [
        "ann.add(tf.keras.layers.Dense(units=6, activation='relu'))"
      ],
      "metadata": {
        "id": "xHI1QH3C3pbt"
      },
      "execution_count": 9,
      "outputs": []
    },
    {
      "cell_type": "code",
      "source": [
        "ann.add(tf.keras.layers.Dense(units=6, activation='relu'))"
      ],
      "metadata": {
        "id": "KmKQP7e13sU-"
      },
      "execution_count": 10,
      "outputs": []
    },
    {
      "cell_type": "code",
      "source": [
        "ann.add(tf.keras.layers.Dense(units=1, activation='sigmoid'))"
      ],
      "metadata": {
        "id": "RRPLAC_l3vBa"
      },
      "execution_count": 11,
      "outputs": []
    },
    {
      "cell_type": "code",
      "source": [
        "ann.compile(optimizer = 'adam', loss = 'binary_crossentropy', metrics = ['accuracy'])"
      ],
      "metadata": {
        "id": "RiSTG5R33yCV"
      },
      "execution_count": 12,
      "outputs": []
    },
    {
      "cell_type": "code",
      "source": [
        "ann.fit(X_train, y_train, batch_size = 32, epochs = 150)"
      ],
      "metadata": {
        "colab": {
          "base_uri": "https://localhost:8080/"
        },
        "id": "BjazZrH331Pd",
        "outputId": "ebb48851-0809-4f2e-b27d-12439fd6f6f3"
      },
      "execution_count": 17,
      "outputs": [
        {
          "output_type": "stream",
          "name": "stdout",
          "text": [
            "Epoch 1/150\n",
            "10/10 [==============================] - 0s 3ms/step - loss: 0.2404 - accuracy: 0.9187\n",
            "Epoch 2/150\n",
            "10/10 [==============================] - 0s 2ms/step - loss: 0.2403 - accuracy: 0.9187\n",
            "Epoch 3/150\n",
            "10/10 [==============================] - 0s 2ms/step - loss: 0.2405 - accuracy: 0.9187\n",
            "Epoch 4/150\n",
            "10/10 [==============================] - 0s 2ms/step - loss: 0.2402 - accuracy: 0.9187\n",
            "Epoch 5/150\n",
            "10/10 [==============================] - 0s 2ms/step - loss: 0.2402 - accuracy: 0.9187\n",
            "Epoch 6/150\n",
            "10/10 [==============================] - 0s 2ms/step - loss: 0.2402 - accuracy: 0.9187\n",
            "Epoch 7/150\n",
            "10/10 [==============================] - 0s 2ms/step - loss: 0.2402 - accuracy: 0.9187\n",
            "Epoch 8/150\n",
            "10/10 [==============================] - 0s 2ms/step - loss: 0.2400 - accuracy: 0.9187\n",
            "Epoch 9/150\n",
            "10/10 [==============================] - 0s 2ms/step - loss: 0.2400 - accuracy: 0.9187\n",
            "Epoch 10/150\n",
            "10/10 [==============================] - 0s 3ms/step - loss: 0.2400 - accuracy: 0.9187\n",
            "Epoch 11/150\n",
            "10/10 [==============================] - 0s 2ms/step - loss: 0.2400 - accuracy: 0.9187\n",
            "Epoch 12/150\n",
            "10/10 [==============================] - 0s 3ms/step - loss: 0.2399 - accuracy: 0.9187\n",
            "Epoch 13/150\n",
            "10/10 [==============================] - 0s 2ms/step - loss: 0.2398 - accuracy: 0.9187\n",
            "Epoch 14/150\n",
            "10/10 [==============================] - 0s 2ms/step - loss: 0.2398 - accuracy: 0.9187\n",
            "Epoch 15/150\n",
            "10/10 [==============================] - 0s 2ms/step - loss: 0.2399 - accuracy: 0.9187\n",
            "Epoch 16/150\n",
            "10/10 [==============================] - 0s 2ms/step - loss: 0.2398 - accuracy: 0.9187\n",
            "Epoch 17/150\n",
            "10/10 [==============================] - 0s 2ms/step - loss: 0.2398 - accuracy: 0.9187\n",
            "Epoch 18/150\n",
            "10/10 [==============================] - 0s 3ms/step - loss: 0.2397 - accuracy: 0.9187\n",
            "Epoch 19/150\n",
            "10/10 [==============================] - 0s 2ms/step - loss: 0.2397 - accuracy: 0.9187\n",
            "Epoch 20/150\n",
            "10/10 [==============================] - 0s 3ms/step - loss: 0.2396 - accuracy: 0.9187\n",
            "Epoch 21/150\n",
            "10/10 [==============================] - 0s 3ms/step - loss: 0.2396 - accuracy: 0.9187\n",
            "Epoch 22/150\n",
            "10/10 [==============================] - 0s 3ms/step - loss: 0.2398 - accuracy: 0.9187\n",
            "Epoch 23/150\n",
            "10/10 [==============================] - 0s 3ms/step - loss: 0.2397 - accuracy: 0.9187\n",
            "Epoch 24/150\n",
            "10/10 [==============================] - 0s 2ms/step - loss: 0.2396 - accuracy: 0.9187\n",
            "Epoch 25/150\n",
            "10/10 [==============================] - 0s 3ms/step - loss: 0.2395 - accuracy: 0.9187\n",
            "Epoch 26/150\n",
            "10/10 [==============================] - 0s 2ms/step - loss: 0.2396 - accuracy: 0.9187\n",
            "Epoch 27/150\n",
            "10/10 [==============================] - 0s 3ms/step - loss: 0.2395 - accuracy: 0.9187\n",
            "Epoch 28/150\n",
            "10/10 [==============================] - 0s 2ms/step - loss: 0.2394 - accuracy: 0.9187\n",
            "Epoch 29/150\n",
            "10/10 [==============================] - 0s 3ms/step - loss: 0.2395 - accuracy: 0.9187\n",
            "Epoch 30/150\n",
            "10/10 [==============================] - 0s 2ms/step - loss: 0.2395 - accuracy: 0.9187\n",
            "Epoch 31/150\n",
            "10/10 [==============================] - 0s 3ms/step - loss: 0.2393 - accuracy: 0.9187\n",
            "Epoch 32/150\n",
            "10/10 [==============================] - 0s 2ms/step - loss: 0.2393 - accuracy: 0.9187\n",
            "Epoch 33/150\n",
            "10/10 [==============================] - 0s 3ms/step - loss: 0.2392 - accuracy: 0.9187\n",
            "Epoch 34/150\n",
            "10/10 [==============================] - 0s 2ms/step - loss: 0.2392 - accuracy: 0.9187\n",
            "Epoch 35/150\n",
            "10/10 [==============================] - 0s 2ms/step - loss: 0.2392 - accuracy: 0.9187\n",
            "Epoch 36/150\n",
            "10/10 [==============================] - 0s 2ms/step - loss: 0.2391 - accuracy: 0.9187\n",
            "Epoch 37/150\n",
            "10/10 [==============================] - 0s 2ms/step - loss: 0.2391 - accuracy: 0.9187\n",
            "Epoch 38/150\n",
            "10/10 [==============================] - 0s 2ms/step - loss: 0.2391 - accuracy: 0.9187\n",
            "Epoch 39/150\n",
            "10/10 [==============================] - 0s 2ms/step - loss: 0.2390 - accuracy: 0.9187\n",
            "Epoch 40/150\n",
            "10/10 [==============================] - 0s 2ms/step - loss: 0.2390 - accuracy: 0.9187\n",
            "Epoch 41/150\n",
            "10/10 [==============================] - 0s 2ms/step - loss: 0.2390 - accuracy: 0.9187\n",
            "Epoch 42/150\n",
            "10/10 [==============================] - 0s 2ms/step - loss: 0.2390 - accuracy: 0.9187\n",
            "Epoch 43/150\n",
            "10/10 [==============================] - 0s 3ms/step - loss: 0.2390 - accuracy: 0.9187\n",
            "Epoch 44/150\n",
            "10/10 [==============================] - 0s 2ms/step - loss: 0.2390 - accuracy: 0.9156\n",
            "Epoch 45/150\n",
            "10/10 [==============================] - 0s 2ms/step - loss: 0.2390 - accuracy: 0.9156\n",
            "Epoch 46/150\n",
            "10/10 [==============================] - 0s 2ms/step - loss: 0.2388 - accuracy: 0.9187\n",
            "Epoch 47/150\n",
            "10/10 [==============================] - 0s 2ms/step - loss: 0.2389 - accuracy: 0.9187\n",
            "Epoch 48/150\n",
            "10/10 [==============================] - 0s 3ms/step - loss: 0.2386 - accuracy: 0.9156\n",
            "Epoch 49/150\n",
            "10/10 [==============================] - 0s 2ms/step - loss: 0.2386 - accuracy: 0.9156\n",
            "Epoch 50/150\n",
            "10/10 [==============================] - 0s 3ms/step - loss: 0.2388 - accuracy: 0.9156\n",
            "Epoch 51/150\n",
            "10/10 [==============================] - 0s 3ms/step - loss: 0.2383 - accuracy: 0.9156\n",
            "Epoch 52/150\n",
            "10/10 [==============================] - 0s 3ms/step - loss: 0.2382 - accuracy: 0.9156\n",
            "Epoch 53/150\n",
            "10/10 [==============================] - 0s 3ms/step - loss: 0.2381 - accuracy: 0.9156\n",
            "Epoch 54/150\n",
            "10/10 [==============================] - 0s 3ms/step - loss: 0.2380 - accuracy: 0.9125\n",
            "Epoch 55/150\n",
            "10/10 [==============================] - 0s 2ms/step - loss: 0.2378 - accuracy: 0.9125\n",
            "Epoch 56/150\n",
            "10/10 [==============================] - 0s 2ms/step - loss: 0.2378 - accuracy: 0.9125\n",
            "Epoch 57/150\n",
            "10/10 [==============================] - 0s 2ms/step - loss: 0.2376 - accuracy: 0.9125\n",
            "Epoch 58/150\n",
            "10/10 [==============================] - 0s 2ms/step - loss: 0.2375 - accuracy: 0.9125\n",
            "Epoch 59/150\n",
            "10/10 [==============================] - 0s 2ms/step - loss: 0.2375 - accuracy: 0.9125\n",
            "Epoch 60/150\n",
            "10/10 [==============================] - 0s 2ms/step - loss: 0.2371 - accuracy: 0.9125\n",
            "Epoch 61/150\n",
            "10/10 [==============================] - 0s 2ms/step - loss: 0.2371 - accuracy: 0.9125\n",
            "Epoch 62/150\n",
            "10/10 [==============================] - 0s 3ms/step - loss: 0.2370 - accuracy: 0.9125\n",
            "Epoch 63/150\n",
            "10/10 [==============================] - 0s 2ms/step - loss: 0.2370 - accuracy: 0.9125\n",
            "Epoch 64/150\n",
            "10/10 [==============================] - 0s 2ms/step - loss: 0.2367 - accuracy: 0.9125\n",
            "Epoch 65/150\n",
            "10/10 [==============================] - 0s 2ms/step - loss: 0.2367 - accuracy: 0.9125\n",
            "Epoch 66/150\n",
            "10/10 [==============================] - 0s 3ms/step - loss: 0.2365 - accuracy: 0.9125\n",
            "Epoch 67/150\n",
            "10/10 [==============================] - 0s 2ms/step - loss: 0.2366 - accuracy: 0.9125\n",
            "Epoch 68/150\n",
            "10/10 [==============================] - 0s 2ms/step - loss: 0.2366 - accuracy: 0.9125\n",
            "Epoch 69/150\n",
            "10/10 [==============================] - 0s 3ms/step - loss: 0.2364 - accuracy: 0.9125\n",
            "Epoch 70/150\n",
            "10/10 [==============================] - 0s 2ms/step - loss: 0.2368 - accuracy: 0.9125\n",
            "Epoch 71/150\n",
            "10/10 [==============================] - 0s 2ms/step - loss: 0.2365 - accuracy: 0.9125\n",
            "Epoch 72/150\n",
            "10/10 [==============================] - 0s 2ms/step - loss: 0.2364 - accuracy: 0.9125\n",
            "Epoch 73/150\n",
            "10/10 [==============================] - 0s 3ms/step - loss: 0.2364 - accuracy: 0.9125\n",
            "Epoch 74/150\n",
            "10/10 [==============================] - 0s 4ms/step - loss: 0.2363 - accuracy: 0.9125\n",
            "Epoch 75/150\n",
            "10/10 [==============================] - 0s 2ms/step - loss: 0.2361 - accuracy: 0.9125\n",
            "Epoch 76/150\n",
            "10/10 [==============================] - 0s 2ms/step - loss: 0.2362 - accuracy: 0.9125\n",
            "Epoch 77/150\n",
            "10/10 [==============================] - 0s 3ms/step - loss: 0.2361 - accuracy: 0.9125\n",
            "Epoch 78/150\n",
            "10/10 [==============================] - 0s 3ms/step - loss: 0.2360 - accuracy: 0.9125\n",
            "Epoch 79/150\n",
            "10/10 [==============================] - 0s 2ms/step - loss: 0.2361 - accuracy: 0.9125\n",
            "Epoch 80/150\n",
            "10/10 [==============================] - 0s 2ms/step - loss: 0.2359 - accuracy: 0.9125\n",
            "Epoch 81/150\n",
            "10/10 [==============================] - 0s 2ms/step - loss: 0.2360 - accuracy: 0.9125\n",
            "Epoch 82/150\n",
            "10/10 [==============================] - 0s 2ms/step - loss: 0.2359 - accuracy: 0.9125\n",
            "Epoch 83/150\n",
            "10/10 [==============================] - 0s 2ms/step - loss: 0.2359 - accuracy: 0.9125\n",
            "Epoch 84/150\n",
            "10/10 [==============================] - 0s 2ms/step - loss: 0.2358 - accuracy: 0.9125\n",
            "Epoch 85/150\n",
            "10/10 [==============================] - 0s 2ms/step - loss: 0.2361 - accuracy: 0.9125\n",
            "Epoch 86/150\n",
            "10/10 [==============================] - 0s 3ms/step - loss: 0.2358 - accuracy: 0.9125\n",
            "Epoch 87/150\n",
            "10/10 [==============================] - 0s 3ms/step - loss: 0.2358 - accuracy: 0.9125\n",
            "Epoch 88/150\n",
            "10/10 [==============================] - 0s 3ms/step - loss: 0.2359 - accuracy: 0.9125\n",
            "Epoch 89/150\n",
            "10/10 [==============================] - 0s 3ms/step - loss: 0.2357 - accuracy: 0.9125\n",
            "Epoch 90/150\n",
            "10/10 [==============================] - 0s 3ms/step - loss: 0.2356 - accuracy: 0.9125\n",
            "Epoch 91/150\n",
            "10/10 [==============================] - 0s 3ms/step - loss: 0.2357 - accuracy: 0.9125\n",
            "Epoch 92/150\n",
            "10/10 [==============================] - 0s 3ms/step - loss: 0.2356 - accuracy: 0.9125\n",
            "Epoch 93/150\n",
            "10/10 [==============================] - 0s 3ms/step - loss: 0.2357 - accuracy: 0.9125\n",
            "Epoch 94/150\n",
            "10/10 [==============================] - 0s 3ms/step - loss: 0.2356 - accuracy: 0.9125\n",
            "Epoch 95/150\n",
            "10/10 [==============================] - 0s 3ms/step - loss: 0.2355 - accuracy: 0.9125\n",
            "Epoch 96/150\n",
            "10/10 [==============================] - 0s 3ms/step - loss: 0.2356 - accuracy: 0.9125\n",
            "Epoch 97/150\n",
            "10/10 [==============================] - 0s 2ms/step - loss: 0.2355 - accuracy: 0.9125\n",
            "Epoch 98/150\n",
            "10/10 [==============================] - 0s 3ms/step - loss: 0.2355 - accuracy: 0.9125\n",
            "Epoch 99/150\n",
            "10/10 [==============================] - 0s 3ms/step - loss: 0.2354 - accuracy: 0.9125\n",
            "Epoch 100/150\n",
            "10/10 [==============================] - 0s 2ms/step - loss: 0.2355 - accuracy: 0.9125\n",
            "Epoch 101/150\n",
            "10/10 [==============================] - 0s 3ms/step - loss: 0.2355 - accuracy: 0.9125\n",
            "Epoch 102/150\n",
            "10/10 [==============================] - 0s 2ms/step - loss: 0.2353 - accuracy: 0.9125\n",
            "Epoch 103/150\n",
            "10/10 [==============================] - 0s 2ms/step - loss: 0.2354 - accuracy: 0.9125\n",
            "Epoch 104/150\n",
            "10/10 [==============================] - 0s 4ms/step - loss: 0.2354 - accuracy: 0.9125\n",
            "Epoch 105/150\n",
            "10/10 [==============================] - 0s 3ms/step - loss: 0.2353 - accuracy: 0.9125\n",
            "Epoch 106/150\n",
            "10/10 [==============================] - 0s 2ms/step - loss: 0.2353 - accuracy: 0.9125\n",
            "Epoch 107/150\n",
            "10/10 [==============================] - 0s 3ms/step - loss: 0.2357 - accuracy: 0.9125\n",
            "Epoch 108/150\n",
            "10/10 [==============================] - 0s 2ms/step - loss: 0.2352 - accuracy: 0.9125\n",
            "Epoch 109/150\n",
            "10/10 [==============================] - 0s 2ms/step - loss: 0.2354 - accuracy: 0.9125\n",
            "Epoch 110/150\n",
            "10/10 [==============================] - 0s 2ms/step - loss: 0.2352 - accuracy: 0.9125\n",
            "Epoch 111/150\n",
            "10/10 [==============================] - 0s 2ms/step - loss: 0.2352 - accuracy: 0.9125\n",
            "Epoch 112/150\n",
            "10/10 [==============================] - 0s 3ms/step - loss: 0.2353 - accuracy: 0.9125\n",
            "Epoch 113/150\n",
            "10/10 [==============================] - 0s 2ms/step - loss: 0.2352 - accuracy: 0.9125\n",
            "Epoch 114/150\n",
            "10/10 [==============================] - 0s 3ms/step - loss: 0.2351 - accuracy: 0.9125\n",
            "Epoch 115/150\n",
            "10/10 [==============================] - 0s 3ms/step - loss: 0.2351 - accuracy: 0.9125\n",
            "Epoch 116/150\n",
            "10/10 [==============================] - 0s 3ms/step - loss: 0.2351 - accuracy: 0.9125\n",
            "Epoch 117/150\n",
            "10/10 [==============================] - 0s 2ms/step - loss: 0.2351 - accuracy: 0.9125\n",
            "Epoch 118/150\n",
            "10/10 [==============================] - 0s 3ms/step - loss: 0.2350 - accuracy: 0.9125\n",
            "Epoch 119/150\n",
            "10/10 [==============================] - 0s 3ms/step - loss: 0.2351 - accuracy: 0.9125\n",
            "Epoch 120/150\n",
            "10/10 [==============================] - 0s 2ms/step - loss: 0.2351 - accuracy: 0.9125\n",
            "Epoch 121/150\n",
            "10/10 [==============================] - 0s 3ms/step - loss: 0.2349 - accuracy: 0.9125\n",
            "Epoch 122/150\n",
            "10/10 [==============================] - 0s 3ms/step - loss: 0.2349 - accuracy: 0.9125\n",
            "Epoch 123/150\n",
            "10/10 [==============================] - 0s 4ms/step - loss: 0.2350 - accuracy: 0.9125\n",
            "Epoch 124/150\n",
            "10/10 [==============================] - 0s 3ms/step - loss: 0.2350 - accuracy: 0.9125\n",
            "Epoch 125/150\n",
            "10/10 [==============================] - 0s 3ms/step - loss: 0.2349 - accuracy: 0.9125\n",
            "Epoch 126/150\n",
            "10/10 [==============================] - 0s 3ms/step - loss: 0.2350 - accuracy: 0.9125\n",
            "Epoch 127/150\n",
            "10/10 [==============================] - 0s 4ms/step - loss: 0.2350 - accuracy: 0.9125\n",
            "Epoch 128/150\n",
            "10/10 [==============================] - 0s 4ms/step - loss: 0.2352 - accuracy: 0.9125\n",
            "Epoch 129/150\n",
            "10/10 [==============================] - 0s 3ms/step - loss: 0.2349 - accuracy: 0.9125\n",
            "Epoch 130/150\n",
            "10/10 [==============================] - 0s 3ms/step - loss: 0.2349 - accuracy: 0.9125\n",
            "Epoch 131/150\n",
            "10/10 [==============================] - 0s 3ms/step - loss: 0.2349 - accuracy: 0.9125\n",
            "Epoch 132/150\n",
            "10/10 [==============================] - 0s 5ms/step - loss: 0.2349 - accuracy: 0.9125\n",
            "Epoch 133/150\n",
            "10/10 [==============================] - 0s 3ms/step - loss: 0.2349 - accuracy: 0.9125\n",
            "Epoch 134/150\n",
            "10/10 [==============================] - 0s 3ms/step - loss: 0.2348 - accuracy: 0.9125\n",
            "Epoch 135/150\n",
            "10/10 [==============================] - 0s 3ms/step - loss: 0.2347 - accuracy: 0.9125\n",
            "Epoch 136/150\n",
            "10/10 [==============================] - 0s 3ms/step - loss: 0.2349 - accuracy: 0.9094\n",
            "Epoch 137/150\n",
            "10/10 [==============================] - 0s 3ms/step - loss: 0.2348 - accuracy: 0.9125\n",
            "Epoch 138/150\n",
            "10/10 [==============================] - 0s 3ms/step - loss: 0.2348 - accuracy: 0.9125\n",
            "Epoch 139/150\n",
            "10/10 [==============================] - 0s 3ms/step - loss: 0.2347 - accuracy: 0.9125\n",
            "Epoch 140/150\n",
            "10/10 [==============================] - 0s 3ms/step - loss: 0.2347 - accuracy: 0.9125\n",
            "Epoch 141/150\n",
            "10/10 [==============================] - 0s 3ms/step - loss: 0.2347 - accuracy: 0.9125\n",
            "Epoch 142/150\n",
            "10/10 [==============================] - 0s 3ms/step - loss: 0.2347 - accuracy: 0.9125\n",
            "Epoch 143/150\n",
            "10/10 [==============================] - 0s 4ms/step - loss: 0.2346 - accuracy: 0.9125\n",
            "Epoch 144/150\n",
            "10/10 [==============================] - 0s 4ms/step - loss: 0.2346 - accuracy: 0.9125\n",
            "Epoch 145/150\n",
            "10/10 [==============================] - 0s 3ms/step - loss: 0.2347 - accuracy: 0.9125\n",
            "Epoch 146/150\n",
            "10/10 [==============================] - 0s 3ms/step - loss: 0.2346 - accuracy: 0.9125\n",
            "Epoch 147/150\n",
            "10/10 [==============================] - 0s 3ms/step - loss: 0.2348 - accuracy: 0.9125\n",
            "Epoch 148/150\n",
            "10/10 [==============================] - 0s 3ms/step - loss: 0.2349 - accuracy: 0.9125\n",
            "Epoch 149/150\n",
            "10/10 [==============================] - 0s 3ms/step - loss: 0.2347 - accuracy: 0.9125\n",
            "Epoch 150/150\n",
            "10/10 [==============================] - 0s 3ms/step - loss: 0.2345 - accuracy: 0.9125\n"
          ]
        },
        {
          "output_type": "execute_result",
          "data": {
            "text/plain": [
              "<keras.src.callbacks.History at 0x7af45c4547f0>"
            ]
          },
          "metadata": {},
          "execution_count": 17
        }
      ]
    },
    {
      "cell_type": "code",
      "source": [
        "print(ann.predict(sc.transform([[30,150000]])) > 0.5)"
      ],
      "metadata": {
        "colab": {
          "base_uri": "https://localhost:8080/"
        },
        "id": "SdEQsF3B4nXV",
        "outputId": "c50ceade-002f-427d-9648-f20639844550"
      },
      "execution_count": 21,
      "outputs": [
        {
          "output_type": "stream",
          "name": "stdout",
          "text": [
            "1/1 [==============================] - 0s 21ms/step\n",
            "[[ True]]\n"
          ]
        }
      ]
    },
    {
      "cell_type": "code",
      "source": [
        "y_pred = ann.predict(X_test)\n",
        "y_pred = (y_pred > 0.5)\n",
        "print(np.concatenate((y_pred.reshape(len(y_pred),1), y_test.reshape(len(y_test),1)),1))"
      ],
      "metadata": {
        "colab": {
          "base_uri": "https://localhost:8080/"
        },
        "id": "jh4Csnta5_P4",
        "outputId": "a340ecf7-c790-43fd-8b01-23a55560fc1f"
      },
      "execution_count": 22,
      "outputs": [
        {
          "output_type": "stream",
          "name": "stdout",
          "text": [
            "3/3 [==============================] - 0s 4ms/step\n",
            "[[0 0]\n",
            " [0 0]\n",
            " [0 0]\n",
            " [0 0]\n",
            " [0 0]\n",
            " [0 0]\n",
            " [0 0]\n",
            " [1 1]\n",
            " [0 0]\n",
            " [1 0]\n",
            " [0 0]\n",
            " [0 0]\n",
            " [0 0]\n",
            " [0 0]\n",
            " [0 0]\n",
            " [1 0]\n",
            " [0 0]\n",
            " [0 0]\n",
            " [1 1]\n",
            " [0 0]\n",
            " [0 0]\n",
            " [1 1]\n",
            " [0 0]\n",
            " [1 1]\n",
            " [0 0]\n",
            " [1 1]\n",
            " [0 0]\n",
            " [0 0]\n",
            " [0 0]\n",
            " [0 0]\n",
            " [0 0]\n",
            " [0 1]\n",
            " [1 1]\n",
            " [0 0]\n",
            " [0 0]\n",
            " [0 0]\n",
            " [0 0]\n",
            " [0 0]\n",
            " [0 0]\n",
            " [1 1]\n",
            " [0 0]\n",
            " [0 0]\n",
            " [0 0]\n",
            " [0 0]\n",
            " [1 1]\n",
            " [0 0]\n",
            " [0 0]\n",
            " [1 1]\n",
            " [0 0]\n",
            " [1 1]\n",
            " [1 1]\n",
            " [0 0]\n",
            " [0 0]\n",
            " [1 0]\n",
            " [1 1]\n",
            " [1 1]\n",
            " [0 0]\n",
            " [0 0]\n",
            " [1 1]\n",
            " [0 0]\n",
            " [0 0]\n",
            " [1 1]\n",
            " [0 0]\n",
            " [1 1]\n",
            " [0 0]\n",
            " [1 1]\n",
            " [0 0]\n",
            " [0 0]\n",
            " [0 0]\n",
            " [0 0]\n",
            " [1 1]\n",
            " [0 0]\n",
            " [0 0]\n",
            " [1 1]\n",
            " [0 0]\n",
            " [0 0]\n",
            " [0 0]\n",
            " [0 0]\n",
            " [1 1]\n",
            " [1 1]]\n"
          ]
        }
      ]
    },
    {
      "cell_type": "code",
      "source": [
        "from sklearn.metrics import confusion_matrix, accuracy_score\n",
        "cm = confusion_matrix(y_test, y_pred)\n",
        "print(cm)\n",
        "accuracy_score(y_test, y_pred)"
      ],
      "metadata": {
        "colab": {
          "base_uri": "https://localhost:8080/"
        },
        "id": "oVl7i7oI6I2V",
        "outputId": "2a40223b-3954-40a8-d96b-328917e56d2f"
      },
      "execution_count": 23,
      "outputs": [
        {
          "output_type": "stream",
          "name": "stdout",
          "text": [
            "[[55  3]\n",
            " [ 1 21]]\n"
          ]
        },
        {
          "output_type": "execute_result",
          "data": {
            "text/plain": [
              "0.95"
            ]
          },
          "metadata": {},
          "execution_count": 23
        }
      ]
    }
  ]
}