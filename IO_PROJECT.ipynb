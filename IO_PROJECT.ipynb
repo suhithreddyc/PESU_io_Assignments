{
  "cells": [
    {
      "cell_type": "markdown",
      "metadata": {
        "id": "view-in-github",
        "colab_type": "text"
      },
      "source": [
        "<a href=\"https://colab.research.google.com/github/suhithreddyc/PESU_io_Assignments/blob/main/IO_PROJECT.ipynb\" target=\"_parent\"><img src=\"https://colab.research.google.com/assets/colab-badge.svg\" alt=\"Open In Colab\"/></a>"
      ]
    },
    {
      "cell_type": "code",
      "execution_count": 1,
      "metadata": {
        "id": "Noz4vaWil6lw"
      },
      "outputs": [],
      "source": [
        "import numpy as np\n",
        "import pandas as pd"
      ]
    },
    {
      "cell_type": "code",
      "execution_count": 2,
      "metadata": {
        "id": "Cck5jUBPmQ2z"
      },
      "outputs": [],
      "source": [
        "dataset = pd.read_csv('/content/PESUIODATABASE.csv')\n",
        "X = dataset.iloc[:, :-1].values\n",
        "y = dataset.iloc[:, -1].values"
      ]
    },
    {
      "cell_type": "code",
      "execution_count": 3,
      "metadata": {
        "id": "ldQ_wpGsnbw8"
      },
      "outputs": [],
      "source": [
        "from sklearn.preprocessing import LabelEncoder\n",
        "le = LabelEncoder()\n",
        "y = le.fit_transform(y)"
      ]
    },
    {
      "cell_type": "code",
      "source": [
        "y"
      ],
      "metadata": {
        "colab": {
          "base_uri": "https://localhost:8080/"
        },
        "id": "mvrDHpj18vdD",
        "outputId": "ac2e2264-633e-4da8-8d26-fbd45fa7db02"
      },
      "execution_count": 4,
      "outputs": [
        {
          "output_type": "execute_result",
          "data": {
            "text/plain": [
              "array([0, 1, 1, 1, 1, 1, 1, 0, 1, 0, 0, 1, 0, 0, 0, 0, 1, 0, 1, 1, 1, 1,\n",
              "       1, 0, 0, 0, 1, 1, 1, 0, 0, 0, 1, 0, 1, 1, 0, 1, 0, 0, 0, 0, 0, 1,\n",
              "       0, 0, 1, 1, 1, 1, 1, 0, 0, 0, 1, 1, 1, 0, 0, 1, 1, 0, 0, 0, 0, 1,\n",
              "       0, 0, 0, 0, 1, 1, 1, 0, 0, 0, 1, 0, 0, 0, 0, 0, 0, 1, 0, 1, 1, 1,\n",
              "       1, 1, 1, 0, 0, 0, 0, 0, 1, 1, 0, 0, 0, 0, 0, 1, 1, 1, 0, 1, 0, 0,\n",
              "       0, 0, 0, 0, 0, 0, 0, 0, 0, 1, 0, 0, 0, 0, 1, 0, 1, 1, 1, 0, 1, 0,\n",
              "       1, 1, 1, 1, 0, 0, 1, 0, 0, 0, 0, 0, 0, 0, 0, 0, 0, 0, 1, 1, 0, 0,\n",
              "       0, 1, 1, 0, 0, 0, 0, 0, 0, 0, 0, 0, 0, 0, 0, 0, 0, 0, 1, 1, 1, 1,\n",
              "       1, 0, 1, 1, 1, 1, 1, 1, 1, 0, 1, 1, 0, 0, 0, 0, 0, 0, 0, 0, 0, 0,\n",
              "       0, 1])"
            ]
          },
          "metadata": {},
          "execution_count": 4
        }
      ]
    },
    {
      "cell_type": "code",
      "execution_count": 5,
      "metadata": {
        "id": "SJcdkveQnMrR"
      },
      "outputs": [],
      "source": [
        "from sklearn.model_selection import train_test_split\n",
        "X_train, X_test, y_train, y_test = train_test_split(X, y, test_size = 0.2, random_state = 0)"
      ]
    },
    {
      "cell_type": "code",
      "execution_count": 6,
      "metadata": {
        "id": "QX07urwanUZb"
      },
      "outputs": [],
      "source": [
        "from sklearn.preprocessing import StandardScaler\n",
        "sc = StandardScaler()\n",
        "X_train = sc.fit_transform(X_train)\n",
        "X_test = sc.transform(X_test)"
      ]
    },
    {
      "cell_type": "code",
      "execution_count": 7,
      "metadata": {
        "colab": {
          "base_uri": "https://localhost:8080/"
        },
        "id": "YJMrjVBbrHd6",
        "outputId": "5c3d4b1c-f0cd-4d0a-c004-cd044dbee6ef"
      },
      "outputs": [
        {
          "output_type": "execute_result",
          "data": {
            "text/plain": [
              "array([[ 4.18306047e-01,  1.60053039e+00],\n",
              "       [-7.33900332e-01, -6.32442668e-01],\n",
              "       [-1.05108261e+00,  1.02504808e+00],\n",
              "       [-1.99063184e-02, -5.37429299e-01],\n",
              "       [ 1.28387980e+00, -8.32002520e-01],\n",
              "       [-7.66954064e-01, -8.17702849e-01],\n",
              "       [-1.10667298e+00,  1.23922537e+00],\n",
              "       [-6.25724479e-01, -7.65906263e-01],\n",
              "       [ 7.77524372e-02, -5.33933824e-01],\n",
              "       [ 6.28647982e-01, -5.56177756e-01],\n",
              "       [-6.75472016e-01,  5.90973622e-01],\n",
              "       [ 2.00451899e-01,  6.10039850e-01],\n",
              "       [ 1.75798385e+00,  2.01108983e+00],\n",
              "       [-3.04368745e-01,  1.22619678e+00],\n",
              "       [ 7.76388150e-01, -8.26600422e-01],\n",
              "       [-1.05993033e+00, -7.30951512e-01],\n",
              "       [-1.03138393e+00, -6.67079649e-01],\n",
              "       [ 1.06285383e+00, -5.90496966e-01],\n",
              "       [-9.70451540e-01, -6.61042010e-01],\n",
              "       [-8.38236609e-01,  2.19762109e+00],\n",
              "       [ 3.51196953e-01,  6.74229484e-01],\n",
              "       [-3.20728673e-01,  6.54209945e-01],\n",
              "       [ 1.66583405e+00,  1.60053039e+00],\n",
              "       [-1.07912821e+00, -3.84899476e-01],\n",
              "       [ 8.78220357e-01, -6.26722800e-01],\n",
              "       [-3.84499006e-01, -6.32124897e-01],\n",
              "       [-8.57100608e-01,  2.63987814e-01],\n",
              "       [ 1.14448654e+00, -5.65710870e-01],\n",
              "       [-8.84144571e-01, -8.23422717e-01],\n",
              "       [-4.75146364e-01,  2.22526712e+00],\n",
              "       [ 5.33493297e-01, -8.40900093e-01],\n",
              "       [-4.15382544e-01,  2.23289361e+00],\n",
              "       [ 4.86917583e-01, -8.09440817e-01],\n",
              "       [-2.37259651e-01, -8.20245013e-01],\n",
              "       [ 6.52853998e-01, -5.58402150e-01],\n",
              "       [-4.30573906e-01,  1.36919349e+00],\n",
              "       [-9.50284381e-02, -5.62533166e-01],\n",
              "       [-1.09415263e+00, -8.38993470e-01],\n",
              "       [-1.04640835e+00,  1.18552216e+00],\n",
              "       [ 5.80736763e-01, -8.24058258e-01],\n",
              "       [ 1.85163609e+00, -9.60461230e-02],\n",
              "       [-9.25879082e-01, -9.25506479e-02],\n",
              "       [ 5.10121971e-01,  1.98821036e+00],\n",
              "       [ 2.10872068e+00, -5.54588904e-01],\n",
              "       [-1.13391623e-01, -5.27578414e-01],\n",
              "       [-7.77638099e-01, -8.39311241e-01],\n",
              "       [-1.11318357e+00,  9.23997069e-01],\n",
              "       [-8.08688575e-01,  2.13057152e+00],\n",
              "       [ 4.63880133e-01, -5.57131068e-01],\n",
              "       [ 2.17466121e+00, -7.07754268e-01],\n",
              "       [-9.48916532e-01,  1.90265066e-01],\n",
              "       [-1.10316728e+00, -7.31269282e-01],\n",
              "       [ 2.07600082e+00, -6.68668501e-01],\n",
              "       [-6.50932124e-01, -5.73655132e-01],\n",
              "       [ 2.14160747e+00, -7.95776687e-01],\n",
              "       [ 1.57518669e+00,  1.59449275e+00],\n",
              "       [ 1.48604177e+00,  9.21454906e-01],\n",
              "       [ 2.42687225e-01,  2.60492339e-01],\n",
              "       [-3.68806830e-01, -8.39946781e-01],\n",
              "       [-3.89372554e-02, -6.67715189e-01],\n",
              "       [ 1.00926672e+00, -8.11347440e-01],\n",
              "       [ 1.97884288e+00, -6.33395979e-01],\n",
              "       [-8.92825349e-01, -3.43589315e-01],\n",
              "       [-1.11401826e+00, -8.37404618e-01],\n",
              "       [-3.52947716e-01, -6.55322141e-01],\n",
              "       [-7.64983152e-02, -6.01936703e-01],\n",
              "       [-3.36921664e-01, -5.98123458e-01],\n",
              "       [-7.56103091e-01, -8.40582322e-01],\n",
              "       [ 1.25566727e+00, -8.35180225e-01],\n",
              "       [-9.63440142e-01, -8.17385078e-01],\n",
              "       [-6.99344157e-01, -8.14525144e-01],\n",
              "       [-9.01339190e-01, -8.90551728e-02],\n",
              "       [-9.09686092e-01,  6.10039850e-01],\n",
              "       [-4.89669974e-01,  1.28975087e+00],\n",
              "       [-1.09665670e+00, -6.90276892e-01],\n",
              "       [ 1.08989780e+00, -8.10076358e-01],\n",
              "       [-1.06410378e+00, -6.86145876e-01],\n",
              "       [ 1.82025174e+00,  1.59099728e+00],\n",
              "       [ 4.41009621e-01,  1.56271570e+00],\n",
              "       [-1.07562251e+00,  3.09826203e-03],\n",
              "       [-1.09148162e+00, -7.31269282e-01],\n",
              "       [-5.86660977e-01, -5.97170146e-01],\n",
              "       [-1.85174982e-01,  1.30913487e+00],\n",
              "       [-8.75296855e-01, -6.55004371e-01],\n",
              "       [-2.54287332e-01, -6.68668501e-01],\n",
              "       [-6.12870250e-01,  2.40790570e-01],\n",
              "       [-1.11251581e+00,  5.46167987e-01],\n",
              "       [ 3.81881209e-02, -8.41217863e-01],\n",
              "       [ 1.17203131e+00, -6.61995321e-01],\n",
              "       [ 2.20788188e+00, -8.19291701e-01],\n",
              "       [-1.10951093e+00,  1.02949686e+00],\n",
              "       [-7.11029820e-01, -7.65906263e-01],\n",
              "       [-5.04026645e-01, -6.67079649e-01],\n",
              "       [ 1.38350947e-01, -6.33395979e-01],\n",
              "       [ 9.30138089e-01,  1.24812294e+00],\n",
              "       [ 1.36951902e+00, -5.53000052e-01],\n",
              "       [ 9.56347362e-01,  2.00155672e+00],\n",
              "       [-4.00024244e-01, -8.19609472e-01],\n",
              "       [ 2.24126948e+00,  2.13724470e+00],\n",
              "       [-1.10116403e+00,  2.91951615e-01],\n",
              "       [ 9.77850025e-02,  2.24401558e+00],\n",
              "       [-2.20065033e-01, -5.90496966e-01],\n",
              "       [-1.00300446e+00, -1.62142380e-01],\n",
              "       [-8.28554202e-01, -6.95678990e-01],\n",
              "       [-7.45085181e-01,  2.85913976e-01],\n",
              "       [-1.11368438e+00, -9.35039593e-02],\n",
              "       [ 1.17984506e-01, -6.28311652e-01],\n",
              "       [ 1.11710870e+00, -7.93552294e-01],\n",
              "       [-9.56261806e-01, -7.31269282e-01],\n",
              "       [-1.67479549e-01,  2.29708325e+00],\n",
              "       [ 3.73399713e-01,  1.95389115e+00],\n",
              "       [ 1.42744652e+00,  9.53231952e-01],\n",
              "       [-1.08563879e+00, -7.65906263e-01],\n",
              "       [-9.83973521e-01, -6.35302602e-01],\n",
              "       [ 3.95769411e-01,  9.61811755e-01],\n",
              "       [-8.66282200e-01, -6.31807127e-01],\n",
              "       [ 9.82723573e-01, -8.13889603e-01],\n",
              "       [ 2.85590302e-01,  2.92587156e-01],\n",
              "       [-1.00901423e+00, -4.38920455e-01],\n",
              "       [-1.04156715e+00,  2.00433721e-01],\n",
              "       [-7.08443339e-04, -8.10076358e-01],\n",
              "       [ 8.26970378e-01,  1.95452669e+00],\n",
              "       [-1.02604191e+00, -7.37942462e-01],\n",
              "       [ 1.22762168e+00, -8.23740488e-01],\n",
              "       [ 2.64055294e-01,  1.97256016e-01],\n",
              "       [ 1.51558981e+00,  2.01108983e+00],\n",
              "       [-1.02053295e+00,  1.25574943e+00],\n",
              "       [ 6.04608903e-01, -7.49382199e-01],\n",
              "       [ 1.31225927e+00, -8.23422717e-01],\n",
              "       [ 7.26473675e-01, -6.96314531e-01],\n",
              "       [-1.03655901e+00, -6.86145876e-01],\n",
              "       [-2.71148074e-01, -6.60406469e-01],\n",
              "       [-5.32239175e-01, -5.92085819e-01],\n",
              "       [-5.73305934e-01, -5.61897625e-01],\n",
              "       [ 1.86563697e-02, -8.37086847e-01],\n",
              "       [ 7.51347444e-01, -6.61995321e-01],\n",
              "       [ 2.04344790e+00, -7.66859575e-01],\n",
              "       [-6.63285539e-01,  1.02028152e+00],\n",
              "       [-5.99849082e-01, -8.40582322e-01],\n",
              "       [-1.05558994e+00, -8.41217863e-01],\n",
              "       [ 1.19974303e+00, -8.09758587e-01],\n",
              "       [-5.46095032e-01, -8.29460356e-01],\n",
              "       [ 1.88318738e+00, -5.91132507e-01],\n",
              "       [ 1.45666068e+00,  1.24812294e+00],\n",
              "       [ 1.94679078e+00, -7.66859575e-01],\n",
              "       [-9.77296000e-01, -6.26405029e-01],\n",
              "       [-8.18704858e-01, -7.66224034e-01],\n",
              "       [ 5.57031561e-01, -8.12618521e-01],\n",
              "       [-4.45598330e-01,  4.50519077e-01],\n",
              "       [-6.87491555e-01,  9.40203363e-01],\n",
              "       [-4.60455816e-01,  9.68167164e-01],\n",
              "       [-9.96827751e-01, -6.67079649e-01],\n",
              "       [-1.07194987e+00,  6.35461487e-01],\n",
              "       [-1.10500360e+00, -6.68032960e-01],\n",
              "       [-2.02703476e-01,  2.29708325e+00],\n",
              "       [-7.22548545e-01, -5.98123458e-01],\n",
              "       [ 2.01106192e+00, -5.98123458e-01],\n",
              "       [ 5.78868100e-02, -5.59037690e-01],\n",
              "       [-9.17866056e-01,  2.19825663e+00],\n",
              "       [ 1.39839930e+00,  1.98916367e+00]])"
            ]
          },
          "metadata": {},
          "execution_count": 7
        }
      ],
      "source": [
        "X_train"
      ]
    },
    {
      "cell_type": "code",
      "source": [
        "X_test"
      ],
      "metadata": {
        "colab": {
          "base_uri": "https://localhost:8080/"
        },
        "id": "vs-KTwUX9YnH",
        "outputId": "d9c76e8d-bd9c-4fab-b396-92e5001c154b"
      },
      "execution_count": 9,
      "outputs": [
        {
          "output_type": "execute_result",
          "data": {
            "text/plain": [
              "array([[-1.08246697, -0.44559363],\n",
              "       [ 1.34080568, -0.81643177],\n",
              "       [-0.13158787,  0.96181175],\n",
              "       [-0.28784188, -0.81039413],\n",
              "       [ 1.54530478, -0.56285094],\n",
              "       [ 1.69638371,  1.23922537],\n",
              "       [-1.1106795 ,  0.2598568 ],\n",
              "       [ 0.70176684, -0.82342272],\n",
              "       [-1.09899383, -0.69250129],\n",
              "       [ 0.8525119 , -0.55268228],\n",
              "       [-0.7881552 , -0.75986862],\n",
              "       [ 0.22148609, -0.62608726],\n",
              "       [ 1.63545132,  0.93925005],\n",
              "       [ 0.90409575, -0.55363559],\n",
              "       [-0.55978395, -0.82278718],\n",
              "       [-1.10817543, -0.82405826],\n",
              "       [-1.01485706, -0.73063374],\n",
              "       [ 0.32916113,  0.96308284],\n",
              "       [-0.9904841 ,  0.90079983],\n",
              "       [-0.63841177, -0.56984189],\n",
              "       [ 1.72710031,  2.01045429],\n",
              "       [ 0.67722695, -0.59812346],\n",
              "       [-0.93372517, -0.73095151],\n",
              "       [ 1.03597681, -0.55268228],\n",
              "       [-0.79850535,  0.31832656],\n",
              "       [ 0.17958464, -0.6934546 ],\n",
              "       [ 1.60523554,  1.95071344],\n",
              "       [ 1.78903432, -0.81674954],\n",
              "       [ 0.15888433, -0.82342272],\n",
              "       [-0.94140432, -0.76590626],\n",
              "       [-1.08864367,  0.26049234],\n",
              "       [-0.84775208,  0.27066099],\n",
              "       [ 0.8015958 ,  1.66599111],\n",
              "       [-0.05780125, -0.59844123],\n",
              "       [-1.0681103 , -0.4481358 ],\n",
              "       [ 1.91490561, -0.5933569 ],\n",
              "       [ 0.30729225, -0.7633641 ],\n",
              "       [-1.11168112,  0.28813837],\n",
              "       [-0.51821638,  1.40732595],\n",
              "       [-0.14961718, -0.53425159]])"
            ]
          },
          "metadata": {},
          "execution_count": 9
        }
      ]
    },
    {
      "cell_type": "code",
      "execution_count": 10,
      "metadata": {
        "colab": {
          "base_uri": "https://localhost:8080/",
          "height": 74
        },
        "id": "GIxvgs363g1T",
        "outputId": "46709cff-87b1-4f08-d525-3e307b17c0ff"
      },
      "outputs": [
        {
          "output_type": "execute_result",
          "data": {
            "text/plain": [
              "LogisticRegression(random_state=0)"
            ],
            "text/html": [
              "<style>#sk-container-id-2 {color: black;background-color: white;}#sk-container-id-2 pre{padding: 0;}#sk-container-id-2 div.sk-toggleable {background-color: white;}#sk-container-id-2 label.sk-toggleable__label {cursor: pointer;display: block;width: 100%;margin-bottom: 0;padding: 0.3em;box-sizing: border-box;text-align: center;}#sk-container-id-2 label.sk-toggleable__label-arrow:before {content: \"▸\";float: left;margin-right: 0.25em;color: #696969;}#sk-container-id-2 label.sk-toggleable__label-arrow:hover:before {color: black;}#sk-container-id-2 div.sk-estimator:hover label.sk-toggleable__label-arrow:before {color: black;}#sk-container-id-2 div.sk-toggleable__content {max-height: 0;max-width: 0;overflow: hidden;text-align: left;background-color: #f0f8ff;}#sk-container-id-2 div.sk-toggleable__content pre {margin: 0.2em;color: black;border-radius: 0.25em;background-color: #f0f8ff;}#sk-container-id-2 input.sk-toggleable__control:checked~div.sk-toggleable__content {max-height: 200px;max-width: 100%;overflow: auto;}#sk-container-id-2 input.sk-toggleable__control:checked~label.sk-toggleable__label-arrow:before {content: \"▾\";}#sk-container-id-2 div.sk-estimator input.sk-toggleable__control:checked~label.sk-toggleable__label {background-color: #d4ebff;}#sk-container-id-2 div.sk-label input.sk-toggleable__control:checked~label.sk-toggleable__label {background-color: #d4ebff;}#sk-container-id-2 input.sk-hidden--visually {border: 0;clip: rect(1px 1px 1px 1px);clip: rect(1px, 1px, 1px, 1px);height: 1px;margin: -1px;overflow: hidden;padding: 0;position: absolute;width: 1px;}#sk-container-id-2 div.sk-estimator {font-family: monospace;background-color: #f0f8ff;border: 1px dotted black;border-radius: 0.25em;box-sizing: border-box;margin-bottom: 0.5em;}#sk-container-id-2 div.sk-estimator:hover {background-color: #d4ebff;}#sk-container-id-2 div.sk-parallel-item::after {content: \"\";width: 100%;border-bottom: 1px solid gray;flex-grow: 1;}#sk-container-id-2 div.sk-label:hover label.sk-toggleable__label {background-color: #d4ebff;}#sk-container-id-2 div.sk-serial::before {content: \"\";position: absolute;border-left: 1px solid gray;box-sizing: border-box;top: 0;bottom: 0;left: 50%;z-index: 0;}#sk-container-id-2 div.sk-serial {display: flex;flex-direction: column;align-items: center;background-color: white;padding-right: 0.2em;padding-left: 0.2em;position: relative;}#sk-container-id-2 div.sk-item {position: relative;z-index: 1;}#sk-container-id-2 div.sk-parallel {display: flex;align-items: stretch;justify-content: center;background-color: white;position: relative;}#sk-container-id-2 div.sk-item::before, #sk-container-id-2 div.sk-parallel-item::before {content: \"\";position: absolute;border-left: 1px solid gray;box-sizing: border-box;top: 0;bottom: 0;left: 50%;z-index: -1;}#sk-container-id-2 div.sk-parallel-item {display: flex;flex-direction: column;z-index: 1;position: relative;background-color: white;}#sk-container-id-2 div.sk-parallel-item:first-child::after {align-self: flex-end;width: 50%;}#sk-container-id-2 div.sk-parallel-item:last-child::after {align-self: flex-start;width: 50%;}#sk-container-id-2 div.sk-parallel-item:only-child::after {width: 0;}#sk-container-id-2 div.sk-dashed-wrapped {border: 1px dashed gray;margin: 0 0.4em 0.5em 0.4em;box-sizing: border-box;padding-bottom: 0.4em;background-color: white;}#sk-container-id-2 div.sk-label label {font-family: monospace;font-weight: bold;display: inline-block;line-height: 1.2em;}#sk-container-id-2 div.sk-label-container {text-align: center;}#sk-container-id-2 div.sk-container {/* jupyter's `normalize.less` sets `[hidden] { display: none; }` but bootstrap.min.css set `[hidden] { display: none !important; }` so we also need the `!important` here to be able to override the default hidden behavior on the sphinx rendered scikit-learn.org. See: https://github.com/scikit-learn/scikit-learn/issues/21755 */display: inline-block !important;position: relative;}#sk-container-id-2 div.sk-text-repr-fallback {display: none;}</style><div id=\"sk-container-id-2\" class=\"sk-top-container\"><div class=\"sk-text-repr-fallback\"><pre>LogisticRegression(random_state=0)</pre><b>In a Jupyter environment, please rerun this cell to show the HTML representation or trust the notebook. <br />On GitHub, the HTML representation is unable to render, please try loading this page with nbviewer.org.</b></div><div class=\"sk-container\" hidden><div class=\"sk-item\"><div class=\"sk-estimator sk-toggleable\"><input class=\"sk-toggleable__control sk-hidden--visually\" id=\"sk-estimator-id-2\" type=\"checkbox\" checked><label for=\"sk-estimator-id-2\" class=\"sk-toggleable__label sk-toggleable__label-arrow\">LogisticRegression</label><div class=\"sk-toggleable__content\"><pre>LogisticRegression(random_state=0)</pre></div></div></div></div></div>"
            ]
          },
          "metadata": {},
          "execution_count": 10
        }
      ],
      "source": [
        "from sklearn.linear_model import LogisticRegression\n",
        "classifier = LogisticRegression(random_state = 0)\n",
        "classifier.fit(X_train, y_train)"
      ]
    },
    {
      "cell_type": "code",
      "execution_count": 11,
      "metadata": {
        "colab": {
          "base_uri": "https://localhost:8080/"
        },
        "id": "D8Ao99lG6TUq",
        "outputId": "c2149e70-b71a-402a-b0d8-d360296beb8e"
      },
      "outputs": [
        {
          "output_type": "stream",
          "name": "stdout",
          "text": [
            "[[0 1]\n",
            " [0 0]\n",
            " [1 1]\n",
            " [0 0]\n",
            " [0 0]\n",
            " [1 1]\n",
            " [1 1]\n",
            " [0 0]\n",
            " [0 0]\n",
            " [0 0]\n",
            " [0 0]\n",
            " [0 0]\n",
            " [1 1]\n",
            " [0 0]\n",
            " [0 0]\n",
            " [0 0]\n",
            " [0 0]\n",
            " [1 1]\n",
            " [1 1]\n",
            " [0 0]\n",
            " [1 1]\n",
            " [0 0]\n",
            " [0 0]\n",
            " [0 0]\n",
            " [1 1]\n",
            " [0 0]\n",
            " [1 1]\n",
            " [0 0]\n",
            " [0 0]\n",
            " [0 0]\n",
            " [1 1]\n",
            " [1 1]\n",
            " [1 1]\n",
            " [0 0]\n",
            " [0 1]\n",
            " [0 0]\n",
            " [0 0]\n",
            " [1 1]\n",
            " [1 1]\n",
            " [0 0]]\n"
          ]
        }
      ],
      "source": [
        "y_pred = classifier.predict(X_test)\n",
        "print(np.concatenate((y_pred.reshape(len(y_pred),1), y_test.reshape(len(y_test),1)),1))"
      ]
    },
    {
      "cell_type": "code",
      "execution_count": 12,
      "metadata": {
        "colab": {
          "base_uri": "https://localhost:8080/"
        },
        "id": "P71ypZIe6YV9",
        "outputId": "d8946326-27a9-4de4-e00b-91ad7bb3d613"
      },
      "outputs": [
        {
          "output_type": "stream",
          "name": "stdout",
          "text": [
            "[[24  0]\n",
            " [ 2 14]]\n"
          ]
        },
        {
          "output_type": "execute_result",
          "data": {
            "text/plain": [
              "0.95"
            ]
          },
          "metadata": {},
          "execution_count": 12
        }
      ],
      "source": [
        "from sklearn.metrics import confusion_matrix, accuracy_score\n",
        "cm = confusion_matrix(y_test, y_pred)\n",
        "print(cm)\n",
        "accuracy_score(y_test, y_pred)"
      ]
    }
  ],
  "metadata": {
    "colab": {
      "provenance": [],
      "authorship_tag": "ABX9TyPt55gVXyKJZPAMTWsRa3UN",
      "include_colab_link": true
    },
    "kernelspec": {
      "display_name": "Python 3",
      "name": "python3"
    },
    "language_info": {
      "name": "python"
    }
  },
  "nbformat": 4,
  "nbformat_minor": 0
}